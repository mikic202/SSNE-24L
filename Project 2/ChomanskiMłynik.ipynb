{
   "cells": [
      {
         "cell_type": "markdown",
         "metadata": {},
         "source": [
            "Mikołaj Chomanski\n",
            "\n",
            "Władysław Młynik"
         ]
      },
      {
         "cell_type": "code",
         "execution_count": 10,
         "metadata": {},
         "outputs": [],
         "source": [
            "import torch\n",
            "import torchvision\n",
            "import torch.nn as nn\n",
            "import torchvision.transforms as transforms\n",
            "import pandas as pd\n",
            "import numpy as np\n",
            "import torch.nn.functional as F\n",
            "import torch.optim as optim\n",
            "import os\n",
            "from PIL import Image"
         ]
      },
      {
         "cell_type": "code",
         "execution_count": 2,
         "metadata": {},
         "outputs": [
            {
               "data": {
                  "text/plain": [
                     "device(type='cuda')"
                  ]
               },
               "execution_count": 2,
               "metadata": {},
               "output_type": "execute_result"
            }
         ],
         "source": [
            "device = torch.device(\"cuda\")\n",
            "device"
         ]
      },
      {
         "cell_type": "markdown",
         "metadata": {},
         "source": [
            "# Loada Data"
         ]
      },
      {
         "cell_type": "code",
         "execution_count": 22,
         "metadata": {},
         "outputs": [],
         "source": [
            "train_transform = transforms.Compose(\n",
            "    [transforms.ToTensor(),\n",
            "     transforms.RandomHorizontalFlip(p=0.2),\n",
            "     transforms.Normalize((0.5, 0.5, 0.5), (0.5, 0.5, 0.5))])\n",
            "\n",
            "train_transform_more_augmentation = transforms.Compose(\n",
            "    [transforms.ToTensor(),\n",
            "     transforms.RandomHorizontalFlip(p=0.2),\n",
            "     transforms.RandomPerspective(distortion_scale=0.3, p=0.05),\n",
            "     transforms.ColorJitter(brightness=.5),\n",
            "     transforms.Normalize((0.5, 0.5, 0.5), (0.5, 0.5, 0.5))])\n",
            "\n",
            "dataset = torchvision.datasets.ImageFolder(root =\"data/train/\", transform=train_transform)\n",
            "\n",
            "total_size = len(dataset)\n",
            "train_size = int(0.95 * total_size)\n",
            "val_size = total_size - train_size\n",
            "\n",
            "# Split the dataset\n",
            "train_dataset, val_dataset = torch.utils.data.random_split(dataset, [train_size, val_size])\n",
            "\n",
            "batch_size = 128\n",
            "\n",
            "trainloader = torch.utils.data.DataLoader(train_dataset, batch_size=batch_size, shuffle=True)\n",
            "\n",
            "valloader = torch.utils.data.DataLoader(val_dataset, batch_size=batch_size, shuffle=True)"
         ]
      },
      {
         "cell_type": "code",
         "execution_count": 39,
         "metadata": {},
         "outputs": [
            {
               "data": {
                  "text/plain": [
                     "['acoustic',\n",
                     " 'antenna',\n",
                     " 'bacteria',\n",
                     " 'battery',\n",
                     " 'bean',\n",
                     " 'beetle',\n",
                     " 'bicycle',\n",
                     " 'birch',\n",
                     " 'bird',\n",
                     " 'bomb',\n",
                     " 'bread',\n",
                     " 'bridge',\n",
                     " 'camera',\n",
                     " 'carbon',\n",
                     " 'cat',\n",
                     " 'corn',\n",
                     " 'crab',\n",
                     " 'crocodilian',\n",
                     " 'echinoderm',\n",
                     " 'egg',\n",
                     " 'elephant',\n",
                     " 'fish',\n",
                     " 'flower',\n",
                     " 'frog',\n",
                     " 'fungus',\n",
                     " 'gauge',\n",
                     " 'hammer',\n",
                     " 'icecream',\n",
                     " 'kangaroo',\n",
                     " 'memorial',\n",
                     " 'monkey',\n",
                     " 'motor',\n",
                     " 'nest',\n",
                     " 'palm',\n",
                     " 'pizza',\n",
                     " 'pot',\n",
                     " 'printer',\n",
                     " 'saw',\n",
                     " 'snake',\n",
                     " 'spice',\n",
                     " 'spider',\n",
                     " 'spoon',\n",
                     " 'squash',\n",
                     " 'swine',\n",
                     " 'tea',\n",
                     " 'tomato',\n",
                     " 'towel',\n",
                     " 'truck',\n",
                     " 'turtle',\n",
                     " 'worm']"
                  ]
               },
               "execution_count": 39,
               "metadata": {},
               "output_type": "execute_result"
            }
         ],
         "source": [
            "dataset.classes"
         ]
      },
      {
         "cell_type": "code",
         "execution_count": 23,
         "metadata": {},
         "outputs": [],
         "source": [
            "def get_accuracy(model: nn.Module, data_loader: torch.utils.data.DataLoader) -> float:\n",
            "    correct = 0\n",
            "    total = 0\n",
            "    model.eval()\n",
            "    with torch.no_grad():\n",
            "        for data in data_loader:\n",
            "            inputs, labels = data\n",
            "            inputs, labels = inputs.to(device), labels.to(device)\n",
            "            # calculate outputs by running images through the network\n",
            "            outputs = model(inputs)\n",
            "            # the class with the highest energy is what we choose as prediction\n",
            "            _, predicted = torch.max(outputs.data, 1)\n",
            "            total += labels.size(0)\n",
            "            correct += (predicted == labels).sum().item()\n",
            "    return correct/total"
         ]
      },
      {
         "cell_type": "markdown",
         "metadata": {},
         "source": [
            "# Model"
         ]
      },
      {
         "cell_type": "markdown",
         "metadata": {},
         "source": [
            "Nasz najlepszy model to ten drugi (z 4 warstwami konwolucyjnymi), ale ten pierwszy uzyskiwał również dobre wyniki"
         ]
      },
      {
         "cell_type": "code",
         "execution_count": 32,
         "metadata": {},
         "outputs": [
            {
               "data": {
                  "text/plain": [
                     "ImageClassifier(\n",
                     "  (conv2): Conv2d(3, 128, kernel_size=(3, 3), stride=(1, 1), padding=(1, 1))\n",
                     "  (batch1): BatchNorm2d(128, eps=1e-05, momentum=0.1, affine=True, track_running_stats=True)\n",
                     "  (dropout2): Dropout2d(p=0.1, inplace=False)\n",
                     "  (pool2): MaxPool2d(kernel_size=2, stride=2, padding=0, dilation=1, ceil_mode=False)\n",
                     "  (conv3): Conv2d(128, 256, kernel_size=(3, 3), stride=(1, 1), padding=(1, 1), dilation=(2, 2))\n",
                     "  (batch2): BatchNorm2d(256, eps=1e-05, momentum=0.1, affine=True, track_running_stats=True)\n",
                     "  (dropout3): Dropout2d(p=0.1, inplace=False)\n",
                     "  (pool3): MaxPool2d(kernel_size=2, stride=2, padding=0, dilation=1, ceil_mode=False)\n",
                     "  (conv4): Conv2d(256, 512, kernel_size=(5, 5), stride=(2, 2), padding=(2, 2))\n",
                     "  (batch3): BatchNorm2d(512, eps=1e-05, momentum=0.1, affine=True, track_running_stats=True)\n",
                     "  (dropout4): Dropout(p=0.3, inplace=False)\n",
                     "  (pool4): MaxPool2d(kernel_size=2, stride=2, padding=0, dilation=1, ceil_mode=False)\n",
                     "  (fc1): Linear(in_features=8192, out_features=1028, bias=True)\n",
                     "  (fc2): Linear(in_features=1028, out_features=600, bias=True)\n",
                     "  (dropout5): Dropout(p=0.3, inplace=False)\n",
                     "  (fc3): Linear(in_features=600, out_features=50, bias=True)\n",
                     ")"
                  ]
               },
               "execution_count": 32,
               "metadata": {},
               "output_type": "execute_result"
            }
         ],
         "source": [
            "class ImageClassifier(nn.Module):\n",
            "    def __init__(self):\n",
            "        super().__init__()\n",
            "        self.conv2 = nn.Conv2d(in_channels=3, out_channels=128, kernel_size=3, stride=1, padding=1)\n",
            "        self.batch1 = nn.BatchNorm2d(128, eps=1e-05, momentum=0.1, affine=True, track_running_stats=True)\n",
            "        self.dropout2 = nn.Dropout2d(0.1)\n",
            "        self.pool2 = nn.MaxPool2d(kernel_size=2, stride=2)\n",
            "        self.conv3 = nn.Conv2d(in_channels=128, out_channels=256, kernel_size=3, stride=1, padding=1, dilation=2)\n",
            "        self.batch2 = nn.BatchNorm2d(256, eps=1e-05, momentum=0.1, affine=True, track_running_stats=True)\n",
            "        self.dropout3 = nn.Dropout2d(0.1)\n",
            "        self.pool3 = nn.MaxPool2d(kernel_size=2, stride=2)\n",
            "        self.conv4 = nn.Conv2d(in_channels=256, out_channels=512, kernel_size=5, stride=2, padding=2)\n",
            "        self.batch3 = nn.BatchNorm2d(512, eps=1e-05, momentum=0.1, affine=True, track_running_stats=True)\n",
            "        self.dropout4 = nn.Dropout2d(0.1)\n",
            "        self.pool4 = nn.MaxPool2d(kernel_size=2, stride=2)\n",
            "\n",
            "\n",
            "        self.fc1 = nn.Linear(8192, 1028)\n",
            "        self.dropout4 = nn.Dropout(0.3)\n",
            "        self.fc2 = nn.Linear(1028, 600)\n",
            "        self.dropout5 = nn.Dropout(0.3)\n",
            "        self.fc3 = nn.Linear(600, 50)\n",
            "\n",
            "    def forward(self, x):\n",
            "        x = self.pool2(F.leaky_relu(self.batch1(self.conv2(x))))\n",
            "        x = self.dropout2(x)\n",
            "        x = self.pool3(F.leaky_relu(self.batch2(self.conv3(x))))\n",
            "        x = self.dropout3(x)\n",
            "        x = self.pool4(F.leaky_relu(self.batch3(self.conv4(x))))\n",
            "        x = self.dropout4(x)\n",
            "\n",
            "\n",
            "        x = torch.flatten(x, 1)\n",
            "        x = F.leaky_relu(self.fc1(x))\n",
            "        x = self.dropout4(x)\n",
            "        x = F.leaky_relu(self.fc2(x))\n",
            "        x = self.dropout5(x)\n",
            "        x = self.fc3(x)\n",
            "        return x\n",
            "\n",
            "\n",
            "\n",
            "net = ImageClassifier().to(device)\n",
            "net"
         ]
      },
      {
         "cell_type": "code",
         "execution_count": 39,
         "metadata": {},
         "outputs": [
            {
               "data": {
                  "text/plain": [
                     "ImageClassifier(\n",
                     "  (conv2): Conv2d(3, 64, kernel_size=(3, 3), stride=(1, 1), padding=(1, 1))\n",
                     "  (batch1): BatchNorm2d(64, eps=1e-05, momentum=0.1, affine=True, track_running_stats=True)\n",
                     "  (dropout2): Dropout2d(p=0.1, inplace=False)\n",
                     "  (pool2): MaxPool2d(kernel_size=2, stride=2, padding=0, dilation=1, ceil_mode=False)\n",
                     "  (conv3): Conv2d(64, 64, kernel_size=(1, 1), stride=(1, 1), padding=(1, 1))\n",
                     "  (batch2): BatchNorm2d(64, eps=1e-05, momentum=0.1, affine=True, track_running_stats=True)\n",
                     "  (dropout3): Dropout2d(p=0.1, inplace=False)\n",
                     "  (pool3): MaxPool2d(kernel_size=2, stride=2, padding=0, dilation=1, ceil_mode=False)\n",
                     "  (conv4): Conv2d(64, 128, kernel_size=(5, 5), stride=(1, 1), padding=(2, 2))\n",
                     "  (batch3): BatchNorm2d(128, eps=1e-05, momentum=0.1, affine=True, track_running_stats=True)\n",
                     "  (dropout4): Dropout2d(p=0.1, inplace=False)\n",
                     "  (pool4): MaxPool2d(kernel_size=2, stride=2, padding=0, dilation=1, ceil_mode=False)\n",
                     "  (conv5): Conv2d(128, 128, kernel_size=(3, 3), stride=(2, 2), padding=(1, 1))\n",
                     "  (batch4): BatchNorm2d(128, eps=1e-05, momentum=0.1, affine=True, track_running_stats=True)\n",
                     "  (dropout5): Dropout2d(p=0.1, inplace=False)\n",
                     "  (fc1): Linear(in_features=2048, out_features=512, bias=True)\n",
                     "  (dropout6): Dropout(p=0.3, inplace=False)\n",
                     "  (fc2): Linear(in_features=512, out_features=128, bias=True)\n",
                     "  (dropout7): Dropout(p=0.3, inplace=False)\n",
                     "  (fc3): Linear(in_features=128, out_features=50, bias=True)\n",
                     ")"
                  ]
               },
               "execution_count": 39,
               "metadata": {},
               "output_type": "execute_result"
            }
         ],
         "source": [
            "class ImageClassifier(nn.Module):\n",
            "    def __init__(self):\n",
            "        super().__init__()\n",
            "        self.conv2 = nn.Conv2d(in_channels=3, out_channels=64, kernel_size=3, stride=1, padding=1)\n",
            "        self.batch1 = nn.BatchNorm2d(64, eps=1e-05, momentum=0.1, affine=True, track_running_stats=True)\n",
            "        self.dropout2 = nn.Dropout2d(0.1)\n",
            "        self.pool2 = nn.MaxPool2d(kernel_size=2, stride=2)\n",
            "        self.conv3 = nn.Conv2d(in_channels=64, out_channels=64, kernel_size=1, stride=1, padding=1)\n",
            "        self.batch2 = nn.BatchNorm2d(64, eps=1e-05, momentum=0.1, affine=True, track_running_stats=True)\n",
            "        self.dropout3 = nn.Dropout2d(0.1)\n",
            "        self.pool3 = nn.MaxPool2d(kernel_size=2, stride=2)\n",
            "        self.conv4 = nn.Conv2d(in_channels=64, out_channels=128, kernel_size=5, stride=1, padding=2)\n",
            "        self.batch3 = nn.BatchNorm2d(128, eps=1e-05, momentum=0.1, affine=True, track_running_stats=True)\n",
            "        self.dropout4 = nn.Dropout2d(0.1)\n",
            "        self.pool4 = nn.MaxPool2d(kernel_size=2, stride=2)\n",
            "        self.conv5 = nn.Conv2d(in_channels=128, out_channels=128, kernel_size=3, stride=2, padding=1)\n",
            "        self.batch4 = nn.BatchNorm2d(128, eps=1e-05, momentum=0.1, affine=True, track_running_stats=True)\n",
            "        self.dropout5 = nn.Dropout2d(0.1)\n",
            "\n",
            "\n",
            "        self.fc1 = nn.Linear(2048, 512)\n",
            "        self.dropout6 = nn.Dropout(0.3)\n",
            "        self.fc2 = nn.Linear(512, 128)\n",
            "        self.dropout7 = nn.Dropout(0.3)\n",
            "        self.fc3 = nn.Linear(128, 50)\n",
            "\n",
            "    def forward(self, x):\n",
            "        x = self.pool2(F.gelu(self.batch1(self.conv2(x))))\n",
            "        x = self.dropout2(x)\n",
            "        x = self.pool3(F.gelu(self.batch2(self.conv3(x))))\n",
            "        x = self.dropout3(x)\n",
            "        x = self.pool4(F.gelu(self.batch3(self.conv4(x))))\n",
            "        x = self.dropout4(x)\n",
            "        x = F.gelu(self.batch4(self.conv5(x)))\n",
            "        x = self.dropout5(x)\n",
            "\n",
            "\n",
            "        x = torch.flatten(x, 1)\n",
            "        x = F.leaky_relu(self.fc1(x))\n",
            "        x = self.dropout6(x)\n",
            "        x = F.leaky_relu(self.fc2(x))\n",
            "        x = self.dropout7(x)\n",
            "        x = self.fc3(x)\n",
            "        return x\n",
            "\n",
            "\n",
            "\n",
            "net = ImageClassifier().to(device)\n",
            "net"
         ]
      },
      {
         "cell_type": "markdown",
         "metadata": {},
         "source": [
            "# Training"
         ]
      },
      {
         "cell_type": "code",
         "execution_count": 26,
         "metadata": {},
         "outputs": [],
         "source": [
            "criterion = nn.CrossEntropyLoss()\n",
            "optimizer = optim.RMSprop(net.parameters(), lr=0.0001, weight_decay=0.000001)"
         ]
      },
      {
         "cell_type": "code",
         "execution_count": 27,
         "metadata": {},
         "outputs": [
            {
               "name": "stdout",
               "output_type": "stream",
               "text": [
                  "[1/10] train loss: 1.2473343044838898 val loss: 0.7471104439567117 accuracy: 79.86821177005226%\n",
                  "[2/10] train loss: 1.237676854885738 val loss: 0.7375824661815867 accuracy: 79.8227675528289%\n",
                  "[3/10] train loss: 1.2301878182482755 val loss: 0.7602046184680041 accuracy: 79.02749375142014%\n",
                  "[4/10] train loss: 1.2222264402675775 val loss: 0.7609711955575382 accuracy: 78.77755055669166%\n"
               ]
            },
            {
               "ename": "KeyboardInterrupt",
               "evalue": "",
               "output_type": "error",
               "traceback": [
                  "\u001b[0;31m---------------------------------------------------------------------------\u001b[0m",
                  "\u001b[0;31mKeyboardInterrupt\u001b[0m                         Traceback (most recent call last)",
                  "Cell \u001b[0;32mIn[27], line 22\u001b[0m\n\u001b[1;32m     19\u001b[0m     loss\u001b[38;5;241m.\u001b[39mbackward()\n\u001b[1;32m     20\u001b[0m     optimizer\u001b[38;5;241m.\u001b[39mstep()\n\u001b[0;32m---> 22\u001b[0m     running_loss \u001b[38;5;241m+\u001b[39m\u001b[38;5;241m=\u001b[39m \u001b[43mloss\u001b[49m\u001b[38;5;241;43m.\u001b[39;49m\u001b[43mitem\u001b[49m\u001b[43m(\u001b[49m\u001b[43m)\u001b[49m\n\u001b[1;32m     24\u001b[0m     \u001b[38;5;66;03m# if(i > max_batches_per_epoch):\u001b[39;00m\n\u001b[1;32m     25\u001b[0m     \u001b[38;5;66;03m#     break\u001b[39;00m\n\u001b[1;32m     27\u001b[0m correct \u001b[38;5;241m=\u001b[39m \u001b[38;5;241m0.0\u001b[39m\n",
                  "\u001b[0;31mKeyboardInterrupt\u001b[0m: "
               ]
            }
         ],
         "source": [
            "epochs = 40\n",
            "\n",
            "test_los_per_epoch = []\n",
            "train_loss_per_epoch = []\n",
            "accuracy_per_epoch = []\n",
            "\n",
            "for epoch in range(epochs):\n",
            "    net.train()\n",
            "    running_loss = 0.0\n",
            "    for i, data in enumerate(trainloader, 0):\n",
            "        inputs, labels = data\n",
            "        inputs, labels = inputs.to(device), labels.to(device)\n",
            "\n",
            "        optimizer.zero_grad()\n",
            "\n",
            "        outputs = net(inputs)\n",
            "        loss = criterion(outputs, labels)\n",
            "        loss.backward()\n",
            "        optimizer.step()\n",
            "\n",
            "        running_loss += loss.item()\n",
            "\n",
            "    correct = 0.0\n",
            "    total = 0.0\n",
            "    val_loss = 0.0\n",
            "    net.eval()\n",
            "    with torch.no_grad():\n",
            "        for j, data in enumerate(valloader, 0):\n",
            "            inputs, labels = data\n",
            "            inputs, labels = inputs.to(device), labels.to(device)\n",
            "            outputs = net(inputs)\n",
            "            loss = criterion(outputs, labels)\n",
            "            val_loss += loss.item()\n",
            "            _, predicted = torch.max(outputs.data, 1)\n",
            "            total += labels.size(0)\n",
            "            correct += (predicted == labels).sum().item()\n",
            "    print(f'[{epoch+1}/{epochs}] train loss: {running_loss / i} val loss: {val_loss / j} accuracy: {100 * correct / total}%')\n",
            "\n",
            "    accuracy_per_epoch.append(100 * correct / total)\n",
            "    test_los_per_epoch.append(val_loss / j)\n",
            "    train_loss_per_epoch.append(running_loss / i)\n",
            "\n",
            "print('Finished Training')"
         ]
      },
      {
         "cell_type": "markdown",
         "metadata": {},
         "source": [
            "# Data Analisis"
         ]
      },
      {
         "cell_type": "code",
         "execution_count": 41,
         "metadata": {},
         "outputs": [
            {
               "name": "stdout",
               "output_type": "stream",
               "text": [
                  "Accuracy of the network on the train images: 80.31335964597535\n"
               ]
            }
         ],
         "source": [
            "print(f'Accuracy of the network on the train images: {get_accuracy(net, trainloader)*100}')"
         ]
      },
      {
         "cell_type": "code",
         "execution_count": 15,
         "metadata": {},
         "outputs": [
            {
               "data": {
                  "text/plain": [
                     "Text(0.5, 1.0, 'Accuracy During Training on Validation Set')"
                  ]
               },
               "execution_count": 15,
               "metadata": {},
               "output_type": "execute_result"
            },
            {
               "data": {
                  "image/png": "[encoded data removed]",
                  "text/plain": [
                     "<Figure size 640x480 with 1 Axes>"
                  ]
               },
               "metadata": {},
               "output_type": "display_data"
            },
            {
               "data": {
                  "image/png": "[encoded data removed]",
                  "text/plain": [
                     "<Figure size 640x480 with 1 Axes>"
                  ]
               },
               "metadata": {},
               "output_type": "display_data"
            }
         ],
         "source": [
            "import matplotlib.pyplot as plt\n",
            "\n",
            "plt.plot(test_los_per_epoch, label='Validation Loss')\n",
            "plt.plot(train_loss_per_epoch, label='Training Loss')\n",
            "plt.legend()\n",
            "plt.title('Loss During Training')\n",
            "plt.figure()\n",
            "plt.plot(accuracy_per_epoch, label='Accuracy')\n",
            "plt.title('Accuracy During Training on Validation Set')"
         ]
      },
      {
         "cell_type": "code",
         "execution_count": 68,
         "metadata": {},
         "outputs": [],
         "source": [
            "torch.save(net,\"train_81.17_test_61._more_batches.model\")"
         ]
      },
      {
         "cell_type": "markdown",
         "metadata": {},
         "source": [
            "# Prediction"
         ]
      },
      {
         "cell_type": "code",
         "execution_count": 40,
         "metadata": {},
         "outputs": [],
         "source": [
            "net = torch.load(\"best_model_Chomanski_Młynik.model\")"
         ]
      },
      {
         "cell_type": "code",
         "execution_count": 43,
         "metadata": {},
         "outputs": [],
         "source": [
            "class CustomImageDataset(torchvision.datasets.DatasetFolder):\n",
            "    def __init__(self, root, transform=None):\n",
            "        self.root = root\n",
            "        self.transform = transform\n",
            "        self.samples = self._load_samples()\n",
            "\n",
            "    def _load_samples(self):\n",
            "        samples = []\n",
            "        for root, _, files in os.walk(self.root):\n",
            "            for file in files:\n",
            "                if file.endswith('.JPEG'):\n",
            "                    sample_path = os.path.join(root, file)\n",
            "                    samples.append((sample_path, 0))  # Dummy label, as it's not used\n",
            "        return samples\n",
            "\n",
            "    def __len__(self):\n",
            "        return len(self.samples)\n",
            "\n",
            "    def __getitem__(self, index):\n",
            "        path, label = self.samples[index]\n",
            "        sample = Image.open(path).convert('RGB')\n",
            "        if self.transform:\n",
            "            sample = self.transform(sample)\n",
            "        return sample, label"
         ]
      },
      {
         "cell_type": "code",
         "execution_count": 44,
         "metadata": {},
         "outputs": [],
         "source": [
            "batch_size = 128\n",
            "test_transform = transforms.Compose([\n",
            "    transforms.ToTensor(),\n",
            "    transforms.Normalize((0.5, 0.5, 0.5), (0.5, 0.5, 0.5))])\n",
            "test_dataset = CustomImageDataset(root=\"data/test_all/\", transform=test_transform)\n",
            "\n",
            "testloader = torch.utils.data.DataLoader(test_dataset, batch_size=batch_size, shuffle=False)\n",
            "predictions = []\n",
            "net.eval()\n",
            "with torch.no_grad():\n",
            "    for images, _ in testloader:\n",
            "        images = images.to(device)\n",
            "        outputs = net(images)\n",
            "        _, predicted = torch.max(outputs, 1)\n",
            "        predictions.extend(predicted.cpu().numpy())\n",
            "file_names = [os.path.basename(test_dataset.samples[i][0]) for i in range(len(test_dataset))]\n",
            "df = pd.DataFrame({'filename': file_names, 'predicted_class': predictions})\n",
            "df.to_csv('predictions_best.csv', index=False, header=False)"
         ]
      },
      {
         "cell_type": "markdown",
         "metadata": {},
         "source": [
            "# Prediction"
         ]
      },
      {
         "cell_type": "code",
         "execution_count": 35,
         "metadata": {},
         "outputs": [],
         "source": [
            "class CustomImageDataset(torchvision.datasets.DatasetFolder):\n",
            "    def __init__(self, root, transform=None):\n",
            "        self.root = root\n",
            "        self.transform = transform\n",
            "        self.samples = self._load_samples()\n",
            "    \n",
            "    def _load_samples(self):\n",
            "        samples = []\n",
            "        for root, _, files in os.walk(self.root):\n",
            "            for file in files:\n",
            "                if file.endswith('.JPEG'):\n",
            "                    sample_path = os.path.join(root, file)\n",
            "                    samples.append((sample_path, 0))  # Dummy label, as it's not used\n",
            "        return samples\n",
            "    \n",
            "    def __len__(self):\n",
            "        return len(self.samples)\n",
            "    \n",
            "    def __getitem__(self, index):\n",
            "        path, label = self.samples[index]\n",
            "        sample = Image.open(path).convert('RGB')\n",
            "        if self.transform:\n",
            "            sample = self.transform(sample)\n",
            "        return sample, label"
         ]
      },
      {
         "cell_type": "code",
         "execution_count": 44,
         "metadata": {},
         "outputs": [],
         "source": [
            "test_transform = transforms.Compose([\n",
            "    transforms.ToTensor(),\n",
            "    transforms.Normalize((0.5, 0.5, 0.5), (0.5, 0.5, 0.5))])\n",
            "test_dataset = CustomImageDataset(root=\"data/test_all/\", transform=test_transform)\n",
            "\n",
            "testloader = torch.utils.data.DataLoader(test_dataset, batch_size=batch_size, shuffle=False)\n",
            "predictions = []\n",
            "net.eval()\n",
            "with torch.no_grad():\n",
            "    for images, _ in testloader:\n",
            "        images = images.to(device)\n",
            "        outputs = net(images)\n",
            "        _, predicted = torch.max(outputs, 1)\n",
            "        predictions.extend(dataset.classes[predicted.cpu().numpy()])\n",
            "file_names = [os.path.basename(test_dataset.samples[i][0]) for i in range(len(test_dataset))]\n",
            "df = pd.DataFrame({'filename': file_names, 'predicted_class': predictions})\n",
            "df.to_csv('predictions.csv', index=False)"
         ]
      }
   ],
   "metadata": {
      "kernelspec": {
         "display_name": "pt",
         "language": "python",
         "name": "python3"
      },
      "language_info": {
         "codemirror_mode": {
            "name": "ipython",
            "version": 3
         },
         "file_extension": ".py",
         "mimetype": "text/x-python",
         "name": "python",
         "nbconvert_exporter": "python",
         "pygments_lexer": "ipython3",
         "version": "3.10.12"
      }
   },
   "nbformat": 4,
   "nbformat_minor": 2
}