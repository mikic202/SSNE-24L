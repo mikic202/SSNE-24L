{
 "cells": [
  {
   "cell_type": "code",
   "execution_count": 2,
   "metadata": {},
   "outputs": [],
   "source": [
    "import torch\n",
    "import torchvision\n",
    "import torch.nn as nn\n",
    "import torchvision.transforms as transforms\n",
    "import pandas as pd\n",
    "import numpy as np\n",
    "import torch.nn.functional as F\n",
    "import torch.optim as optim"
   ]
  },
  {
   "cell_type": "code",
   "execution_count": 5,
   "metadata": {},
   "outputs": [
    {
     "data": {
      "text/plain": [
       "device(type='cuda')"
      ]
     },
     "execution_count": 5,
     "metadata": {},
     "output_type": "execute_result"
    }
   ],
   "source": [
    "device = torch.device(\"cuda\")\n",
    "device"
   ]
  },
  {
   "cell_type": "markdown",
   "metadata": {},
   "source": [
    "# Loada Data"
   ]
  },
  {
   "cell_type": "code",
   "execution_count": 62,
   "metadata": {},
   "outputs": [],
   "source": [
    "train_transform = transforms.Compose(\n",
    "    [transforms.ToTensor(),\n",
    "     transforms.RandomHorizontalFlip(p=0.2),\n",
    "     transforms.Normalize((0.5, 0.5, 0.5), (0.5, 0.5, 0.5))])\n",
    "\n",
    "dataset = torchvision.datasets.ImageFolder(root =\"data/train/\", transform=train_transform)\n",
    "\n",
    "total_size = len(dataset)\n",
    "train_size = int(0.95 * total_size)\n",
    "val_size = total_size - train_size\n",
    "\n",
    "# Split the dataset\n",
    "train_dataset, val_dataset = torch.utils.data.random_split(dataset, [train_size, val_size])\n",
    "\n",
    "batch_size = 64\n",
    "\n",
    "# DataLoader for the training set\n",
    "trainloader = torch.utils.data.DataLoader(train_dataset, batch_size=batch_size, shuffle=True)\n",
    "\n",
    "# DataLoader for the validation set\n",
    "valloader = torch.utils.data.DataLoader(val_dataset, batch_size=batch_size, shuffle=True)"
   ]
  },
  {
   "cell_type": "code",
   "execution_count": 63,
   "metadata": {},
   "outputs": [
    {
     "data": {
      "text/plain": [
       "88011"
      ]
     },
     "execution_count": 63,
     "metadata": {},
     "output_type": "execute_result"
    }
   ],
   "source": [
    "len(dataset.classes)\n",
    "len(dataset)"
   ]
  },
  {
   "cell_type": "code",
   "execution_count": 64,
   "metadata": {},
   "outputs": [],
   "source": [
    "def get_accuracy(model: nn.Module, data_loader: torch.utils.data.DataLoader) -> float:\n",
    "    correct = 0\n",
    "    total = 0\n",
    "    model.eval()\n",
    "    with torch.no_grad():\n",
    "        for data in data_loader:\n",
    "            inputs, labels = data\n",
    "            inputs, labels = inputs.to(device), labels.to(device)\n",
    "            # calculate outputs by running images through the network\n",
    "            outputs = model(inputs)\n",
    "            # the class with the highest energy is what we choose as prediction\n",
    "            _, predicted = torch.max(outputs.data, 1)\n",
    "            total += labels.size(0)\n",
    "            correct += (predicted == labels).sum().item()\n",
    "    return correct/total"
   ]
  },
  {
   "cell_type": "markdown",
   "metadata": {},
   "source": [
    "# Model"
   ]
  },
  {
   "cell_type": "code",
   "execution_count": 92,
   "metadata": {},
   "outputs": [
    {
     "data": {
      "text/plain": [
       "ImageClassifier(\n",
       "  (conv2): Conv2d(3, 128, kernel_size=(3, 3), stride=(1, 1), padding=(2, 2))\n",
       "  (batch1): BatchNorm2d(128, eps=1e-05, momentum=0.1, affine=True, track_running_stats=True)\n",
       "  (dropout2): Dropout2d(p=0.1, inplace=False)\n",
       "  (pool2): MaxPool2d(kernel_size=2, stride=2, padding=0, dilation=1, ceil_mode=False)\n",
       "  (conv3): Conv2d(128, 256, kernel_size=(3, 3), stride=(1, 1), padding=(2, 2), dilation=(2, 2))\n",
       "  (batch2): BatchNorm2d(256, eps=1e-05, momentum=0.1, affine=True, track_running_stats=True)\n",
       "  (dropout3): Dropout2d(p=0.1, inplace=False)\n",
       "  (pool3): MaxPool2d(kernel_size=2, stride=2, padding=0, dilation=1, ceil_mode=False)\n",
       "  (conv4): Conv2d(256, 1024, kernel_size=(3, 3), stride=(2, 2), padding=(1, 1))\n",
       "  (batch3): BatchNorm2d(1024, eps=1e-05, momentum=0.1, affine=True, track_running_stats=True)\n",
       "  (dropout4): Dropout(p=0.3, inplace=False)\n",
       "  (pool4): MaxPool2d(kernel_size=2, stride=2, padding=0, dilation=1, ceil_mode=False)\n",
       "  (fc1): Linear(in_features=16384, out_features=1028, bias=True)\n",
       "  (fc2): Linear(in_features=1028, out_features=600, bias=True)\n",
       "  (dropout5): Dropout(p=0.3, inplace=False)\n",
       "  (fc3): Linear(in_features=600, out_features=50, bias=True)\n",
       ")"
      ]
     },
     "execution_count": 92,
     "metadata": {},
     "output_type": "execute_result"
    }
   ],
   "source": [
    "import torch\n",
    "import torch.nn as nn\n",
    "import torch.nn.functional as F\n",
    "\n",
    "class ImageClassifier(nn.Module):\n",
    "    def __init__(self):\n",
    "        super().__init__()\n",
    "        self.conv2 = nn.Conv2d(in_channels=3, out_channels=128, kernel_size=3, stride=1, padding=2)\n",
    "        self.batch1 = nn.BatchNorm2d(128, eps=1e-05, momentum=0.1, affine=True, track_running_stats=True)\n",
    "        self.dropout2 = nn.Dropout2d(0.1)\n",
    "        self.pool2 = nn.MaxPool2d(kernel_size=2, stride=2)\n",
    "        self.conv3 = nn.Conv2d(in_channels=128, out_channels=256, kernel_size=3, stride=1, padding=2, dilation=2)\n",
    "        self.batch2 = nn.BatchNorm2d(256, eps=1e-05, momentum=0.1, affine=True, track_running_stats=True)\n",
    "        self.dropout3 = nn.Dropout2d(0.1)\n",
    "        self.pool3 = nn.MaxPool2d(kernel_size=2, stride=2)\n",
    "        self.conv4 = nn.Conv2d(in_channels=256, out_channels=1024, kernel_size=3, stride=2, padding=1)\n",
    "        self.batch3 = nn.BatchNorm2d(1024, eps=1e-05, momentum=0.1, affine=True, track_running_stats=True)\n",
    "        self.dropout4 = nn.Dropout2d(0.1)\n",
    "        self.pool4 = nn.MaxPool2d(kernel_size=2, stride=2)\n",
    "\n",
    "\n",
    "        self.fc1 = nn.Linear(16384, 1028)\n",
    "        self.dropout4 = nn.Dropout(0.3)\n",
    "        self.fc2 = nn.Linear(1028, 600)\n",
    "        self.dropout5 = nn.Dropout(0.3)\n",
    "        self.fc3 = nn.Linear(600, 50)\n",
    "\n",
    "    def forward(self, x):\n",
    "        x = self.pool2(F.leaky_relu(self.batch1(self.conv2(x))))\n",
    "        x = self.dropout2(x)\n",
    "        x = self.pool3(F.leaky_relu(self.batch2(self.conv3(x))))\n",
    "        x = self.dropout3(x)\n",
    "        x = self.pool4(F.leaky_relu(self.batch3(self.conv4(x))))\n",
    "        x = self.dropout4(x)\n",
    "\n",
    "\n",
    "        x = torch.flatten(x, 1) # flatten all dimensions except the batch dimension\n",
    "        x = F.leaky_relu(self.fc1(x))\n",
    "        x = self.dropout4(x)\n",
    "        x = F.leaky_relu(self.fc2(x))\n",
    "        x = self.dropout5(x)\n",
    "        x = self.fc3(x)\n",
    "        return x\n",
    "\n",
    "\n",
    "\n",
    "net = ImageClassifier().to(device)\n",
    "net"
   ]
  },
  {
   "cell_type": "markdown",
   "metadata": {},
   "source": [
    "# Training"
   ]
  },
  {
   "cell_type": "code",
   "execution_count": 93,
   "metadata": {},
   "outputs": [],
   "source": [
    "criterion = nn.CrossEntropyLoss()\n",
    "optimizer = optim.RMSprop(net.parameters(), lr=0.0002, weight_decay=0.000001)"
   ]
  },
  {
   "cell_type": "code",
   "execution_count": 94,
   "metadata": {},
   "outputs": [
    {
     "name": "stdout",
     "output_type": "stream",
     "text": [
      "[1/25] train loss: 3.1179051985236805 val loss: 2.6726696876918568 accuracy: 28.107248352647126%\n",
      "[2/25] train loss: 2.5811212364053655 val loss: 2.406839002581204 accuracy: 35.01476937059759%\n",
      "[3/25] train loss: 2.3487909351337195 val loss: 2.145818615660948 accuracy: 41.808679845489664%\n",
      "[4/25] train loss: 2.1854442249395944 val loss: 2.035799687399584 accuracy: 44.648943421949554%\n",
      "[5/25] train loss: 2.0679332375708985 val loss: 1.945291487609639 accuracy: 47.30743012951602%\n",
      "[6/25] train loss: 1.9700810980468213 val loss: 1.8473301705192118 accuracy: 48.89797773233356%\n",
      "[7/25] train loss: 1.8858386548335848 val loss: 1.848314930410946 accuracy: 49.21608725289707%\n",
      "[8/25] train loss: 1.8078360428853932 val loss: 1.7488592354690327 accuracy: 52.46534878436719%\n",
      "[9/25] train loss: 1.7423477248612442 val loss: 1.6950514930136062 accuracy: 53.896841626902976%\n",
      "[10/25] train loss: 1.6733428446567442 val loss: 1.6480297796866472 accuracy: 55.532833446943876%\n",
      "[11/25] train loss: 1.6240177615039382 val loss: 1.6059522067799288 accuracy: 56.4871620086344%\n",
      "[12/25] train loss: 1.561065500582159 val loss: 1.5909945614197676 accuracy: 55.828220858895705%\n",
      "[13/25] train loss: 1.5030715057075845 val loss: 1.608176134964999 accuracy: 57.41876846171325%\n",
      "[14/25] train loss: 1.4476374699456038 val loss: 1.5809806935927446 accuracy: 56.82799363780959%\n",
      "[15/25] train loss: 1.3985370627588736 val loss: 1.5450571302105398 accuracy: 57.464212678936605%\n",
      "[16/25] train loss: 1.350691901231798 val loss: 1.5180846847155516 accuracy: 58.16859804589866%\n",
      "[17/25] train loss: 1.3063752949237823 val loss: 1.4963565661626703 accuracy: 60.3044762553965%\n",
      "[18/25] train loss: 1.2526325604451927 val loss: 1.513837035964517 accuracy: 59.327425585094296%\n",
      "[19/25] train loss: 1.2043986976329255 val loss: 1.5593166298726027 accuracy: 59.009316064530786%\n",
      "[20/25] train loss: 1.1622515300240306 val loss: 1.4957189700182747 accuracy: 60.07725516927971%\n",
      "[21/25] train loss: 1.1218153775468538 val loss: 1.5968067479484223 accuracy: 58.82753919563736%\n",
      "[22/25] train loss: 1.0824566825790756 val loss: 1.5209312403903288 accuracy: 60.57714155873665%\n",
      "[23/25] train loss: 1.040055950832586 val loss: 1.5062528498032515 accuracy: 60.09997727789139%\n",
      "[24/25] train loss: 0.9948877267322715 val loss: 1.4752067099599278 accuracy: 61.667802772097254%\n",
      "[25/25] train loss: 0.959581853282762 val loss: 1.4750054750372381 accuracy: 61.71324698932061%\n",
      "Finished Training\n"
     ]
    }
   ],
   "source": [
    "epochs = 25\n",
    "max_batches_per_epoch = 512\n",
    "\n",
    "test_los_per_epoch = []\n",
    "train_loss_per_epoch = []\n",
    "accuracy_per_epoch = []\n",
    "\n",
    "for epoch in range(epochs):  # loop over the dataset multiple times\n",
    "    net.train()\n",
    "    running_loss = 0.0\n",
    "    for i, data in enumerate(trainloader, 0):\n",
    "        # get the inputs; data is a list of [inputs, labels]\n",
    "        inputs, labels = data\n",
    "        inputs, labels = inputs.to(device), labels.to(device)\n",
    "\n",
    "        # zero the parameter gradients\n",
    "        optimizer.zero_grad()\n",
    "\n",
    "        # forward + backward + optimize\n",
    "        outputs = net(inputs)\n",
    "        loss = criterion(outputs, labels)\n",
    "        loss.backward()\n",
    "        optimizer.step()\n",
    "\n",
    "        # print statistics\n",
    "        running_loss += loss.item()\n",
    "\n",
    "        # if(i > max_batches_per_epoch):\n",
    "        #     break\n",
    "\n",
    "    correct = 0.0\n",
    "    total = 0.0\n",
    "    val_loss = 0.0\n",
    "    net.eval()\n",
    "    with torch.no_grad():\n",
    "        for j, data in enumerate(valloader, 0):\n",
    "            inputs, labels = data\n",
    "            inputs, labels = inputs.to(device), labels.to(device)\n",
    "            # calculate outputs by running images through the network\n",
    "            outputs = net(inputs)\n",
    "            # the class with the highest energy is what we choose as prediction\n",
    "            loss = criterion(outputs, labels)\n",
    "            val_loss += loss.item()\n",
    "            _, predicted = torch.max(outputs.data, 1)\n",
    "            total += labels.size(0)\n",
    "            correct += (predicted == labels).sum().item()\n",
    "    print(f'[{epoch+1}/{epochs}] train loss: {running_loss / i} val loss: {val_loss / j} accuracy: {100 * correct / total}%')\n",
    "\n",
    "    accuracy_per_epoch.append(100 * correct / total)\n",
    "    test_los_per_epoch.append(val_loss / j)\n",
    "    train_loss_per_epoch.append(running_loss / i)\n",
    "\n",
    "print('Finished Training')"
   ]
  },
  {
   "cell_type": "markdown",
   "metadata": {},
   "source": [
    "# Data Analisis"
   ]
  },
  {
   "cell_type": "code",
   "execution_count": 95,
   "metadata": {},
   "outputs": [
    {
     "name": "stdout",
     "output_type": "stream",
     "text": [
      "Accuracy of the network on the train images: 85.26611649324244\n"
     ]
    }
   ],
   "source": [
    "print(f'Accuracy of the network on the train images: {get_accuracy(net, trainloader)*100}')"
   ]
  },
  {
   "cell_type": "code",
   "execution_count": 98,
   "metadata": {},
   "outputs": [
    {
     "data": {
      "text/plain": [
       "Text(0.5, 1.0, 'Accuracy During Training on Validation Set')"
      ]
     },
     "execution_count": 98,
     "metadata": {},
     "output_type": "execute_result"
    },
    {
     "data": {
      "image/png": "[encoded data removed]",
      "text/plain": [
       "<Figure size 640x480 with 1 Axes>"
      ]
     },
     "metadata": {},
     "output_type": "display_data"
    },
    {
     "data": {
      "image/png": "[encoded data removed]",
      "text/plain": [
       "<Figure size 640x480 with 1 Axes>"
      ]
     },
     "metadata": {},
     "output_type": "display_data"
    }
   ],
   "source": [
    "import matplotlib.pyplot as plt\n",
    "\n",
    "plt.plot(test_los_per_epoch, label='Validation Loss')\n",
    "plt.plot(train_loss_per_epoch, label='Training Loss')\n",
    "plt.legend()\n",
    "plt.title('Loss During Training')\n",
    "plt.figure()\n",
    "plt.plot(accuracy_per_epoch, label='Accuracy')\n",
    "plt.title('Accuracy During Training on Validation Set')"
   ]
  },
  {
   "cell_type": "code",
   "execution_count": 97,
   "metadata": {},
   "outputs": [],
   "source": [
    "torch.save(net,\"train_85.26_test_61.71_more_batches.model\")"
   ]
  }
 ],
 "metadata": {
  "kernelspec": {
   "display_name": "pt",
   "language": "python",
   "name": "python3"
  },
  "language_info": {
   "codemirror_mode": {
    "name": "ipython",
    "version": 3
   },
   "file_extension": ".py",
   "mimetype": "text/x-python",
   "name": "python",
   "nbconvert_exporter": "python",
   "pygments_lexer": "ipython3",
   "version": "3.11.8"
  }
 },
 "nbformat": 4,
 "nbformat_minor": 2
}
